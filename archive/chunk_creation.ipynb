{
 "cells": [
  {
   "cell_type": "code",
   "execution_count": null,
   "id": "e74423e7",
   "metadata": {},
   "outputs": [],
   "source": [
    "import re\n",
    "\n",
    "from docling.document_converter import DocumentConverter\n",
    "from dotenv import load_dotenv\n",
    "from langchain_groq import ChatGroq\n",
    "from pydantic import BaseModel, Field\n",
    "\n",
    "load_dotenv()"
   ]
  },
  {
   "cell_type": "code",
   "execution_count": null,
   "id": "345093a2",
   "metadata": {},
   "outputs": [],
   "source": [
    "in_path = \"/workspace/output\"\n",
    "converter = DocumentConverter()\n",
    "\n",
    "\n",
    "class ChapterSummary(BaseModel):\n",
    "    summary: str = Field(description=\"Summary of the chapter content\")\n",
    "\n",
    "\n",
    "llm = ChatGroq(\n",
    "    # model=\"llama-3.3-70b-versatile\",\n",
    "    model=\"meta-llama/llama-4-scout-17b-16e-instruct\",\n",
    "    temperature=0.1,\n",
    ")"
   ]
  },
  {
   "cell_type": "code",
   "execution_count": null,
   "id": "fe66cc15",
   "metadata": {},
   "outputs": [],
   "source": [
    "def generate_chapter_summary(chapter_content):\n",
    "    structured_llm = llm.with_structured_output(ChapterSummary)\n",
    "    response = structured_llm.invoke(f\"\"\"\n",
    "\n",
    "    Summarize the given chapter of the document using 400-500 words, include all important metrics:\n",
    "\n",
    "    {chapter_content}\n",
    "\n",
    "    \"\"\")\n",
    "\n",
    "    return response.summary"
   ]
  },
  {
   "cell_type": "code",
   "execution_count": null,
   "id": "090573b0",
   "metadata": {},
   "outputs": [],
   "source": [
    "temp_json = {\n",
    "    \"1\": [\n",
    "        \"State of the Economy 2022-23: Recovery Complete\",\n",
    "        \"The Global Economy Battles Through a Unique Set of Challenges\",\n",
    "        \"Macroeconomic and Growth Challenges in the Indian Economy\",\n",
    "        \"India\\u2019s Economic Resilience and Growth Drivers\",\n",
    "        \"India\\u2019s Inclusive Growth\",\n",
    "        \"Outlook: 2023-24\",\n",
    "    ],\n",
    "}\n",
    "\n",
    "temp_json = {\n",
    "    key: [re.sub(r\"\\u2019\", \"'\", item) for item in value]\n",
    "    for key, value in temp_json.items()\n",
    "}"
   ]
  },
  {
   "cell_type": "code",
   "execution_count": null,
   "id": "56490a66",
   "metadata": {},
   "outputs": [],
   "source": [
    "pdf = converter.convert(\"/workspace/output/ES_22-23/1.pdf\").document\n",
    "chapter_content = pdf.export_to_markdown()"
   ]
  },
  {
   "cell_type": "code",
   "execution_count": null,
   "id": "29ab00c3",
   "metadata": {},
   "outputs": [],
   "source": [
    "summary = generate_chapter_summary(chapter_content)\n",
    "print(summary)"
   ]
  },
  {
   "cell_type": "code",
   "execution_count": null,
   "id": "68d59183",
   "metadata": {},
   "outputs": [],
   "source": [
    "chapter_content"
   ]
  },
  {
   "cell_type": "code",
   "execution_count": null,
   "id": "4167c263",
   "metadata": {},
   "outputs": [],
   "source": [
    "import re\n",
    "\n",
    "split_content = {}\n",
    "for heading in temp_json[\"1\"]:\n",
    "    match = re.search(re.escape(heading), chapter_content, re.IGNORECASE | re.MULTILINE)\n",
    "    if match:\n",
    "        start_index = match.start()\n",
    "        split_content[heading] = chapter_content[start_index:]\n",
    "\n",
    "# Print length of each value in the dict\n",
    "for heading, content in split_content.items():\n",
    "    print(f\"Heading: {heading}\\nLength: {len(content)} characters\\n\")"
   ]
  },
  {
   "cell_type": "code",
   "execution_count": null,
   "id": "4e31e36f",
   "metadata": {},
   "outputs": [],
   "source": [
    "# for src in os.listdir(in_path):\n",
    "#     json_file_path = os.path.join(in_path, src, \"chapter_structure.json\")\n",
    "#     if os.path.exists(json_file_path):\n",
    "#         with open(json_file_path) as f:\n",
    "#             chapter_structure = json.load(f)\n",
    "\n",
    "#     for i in chapter_structure.keys():\n",
    "#         chapter_path = os.path.join(in_path, src, f\"{i}.pdf\")\n",
    "#         if os.path.exists(chapter_path):\n",
    "#             pdf = converter.convert(chapter_path).document\n",
    "#             chapter_content = pdf.export_to_markdown()\n",
    "#             summary = generate_chapter_summary(chapter_content)"
   ]
  }
 ],
 "metadata": {
  "kernelspec": {
   "display_name": "tata",
   "language": "python",
   "name": "python3"
  },
  "language_info": {
   "codemirror_mode": {
    "name": "ipython",
    "version": 3
   },
   "file_extension": ".py",
   "mimetype": "text/x-python",
   "name": "python",
   "nbconvert_exporter": "python",
   "pygments_lexer": "ipython3",
   "version": "3.13.7"
  }
 },
 "nbformat": 4,
 "nbformat_minor": 5
}
