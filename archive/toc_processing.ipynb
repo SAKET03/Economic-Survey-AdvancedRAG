{
 "cells": [
  {
   "cell_type": "code",
   "execution_count": null,
   "id": "932e16b7",
   "metadata": {},
   "outputs": [],
   "source": [
    "import json\n",
    "from typing import List\n",
    "\n",
    "import fitz\n",
    "from dotenv import load_dotenv\n",
    "from langchain_groq import ChatGroq\n",
    "from pydantic import BaseModel, Field\n",
    "\n",
    "load_dotenv()"
   ]
  },
  {
   "cell_type": "code",
   "execution_count": null,
   "id": "dca29365",
   "metadata": {},
   "outputs": [],
   "source": [
    "toc = \"\"\n",
    "doc = fitz.open(\"/workspace/input/ES 22-23.pdf\")\n",
    "\n",
    "for i in range(doc.page_count):\n",
    "    text = doc[i].get_text()\n",
    "    if text.startswith(\"CONTENTS\"):\n",
    "        break\n",
    "\n",
    "for j in range(i, min(i + 6, doc.page_count)):\n",
    "    toc += doc[j].get_text()\n",
    "\n",
    "doc.close()"
   ]
  },
  {
   "cell_type": "code",
   "execution_count": null,
   "id": "7dbd9caa",
   "metadata": {},
   "outputs": [],
   "source": [
    "class SubChapter(BaseModel):\n",
    "    chapter_no: str = Field(description=\"Chapter number of the subchapter\")\n",
    "    title: str = Field(description=\"Title of the subchapter as written in TOC\")\n",
    "\n",
    "\n",
    "class ChapterStructure(BaseModel):\n",
    "    subchapters: List[SubChapter] = Field(\n",
    "        description=\"List of all subchapters with their titles and chapter numbers\"\n",
    "    )"
   ]
  },
  {
   "cell_type": "code",
   "execution_count": null,
   "id": "f4acca1a",
   "metadata": {},
   "outputs": [],
   "source": [
    "llm = ChatGroq(\n",
    "    model=\"llama-3.3-70b-versatile\",\n",
    "    temperature=0.1,\n",
    ")\n",
    "\n",
    "structured_llm = llm.with_structured_output(ChapterStructure)\n",
    "\n",
    "response = structured_llm.invoke(f\"\"\"\n",
    "        You are given the following Table of Contents of an Economic Survey document.\n",
    "        Extract each subchapter entry with its chapter number and exact title as written in the TOC.\n",
    "\n",
    "        Rules:\n",
    "        1. Include ALL subchapter titles under each chapter\n",
    "        2. Do not summarize or merge entries; return them exactly as written\n",
    "        3. Include chapter main titles as the first subchapter of each chapter\n",
    "        4. Maintain the exact spelling and formatting of titles\n",
    "        5. Skip page numbers, just focus on chapter numbers and titles\n",
    "\n",
    "        TOC:\n",
    "        {toc}\n",
    "\"\"\")"
   ]
  },
  {
   "cell_type": "code",
   "execution_count": null,
   "id": "ee937386",
   "metadata": {},
   "outputs": [],
   "source": [
    "chapter_structure = {}\n",
    "\n",
    "for subchapter in response.subchapters:\n",
    "    chapter_no = subchapter.chapter_no\n",
    "    if chapter_no not in chapter_structure:\n",
    "        chapter_structure[chapter_no] = []\n",
    "    chapter_structure[chapter_no].append(subchapter.title)\n",
    "\n",
    "chapter_structure = str(chapter_structure).replace(\"'\", '\"')\n",
    "json.dump(\n",
    "    json.loads(chapter_structure), open(\"/workspace/output/chapter_structure.json\", \"w\")\n",
    ")"
   ]
  }
 ],
 "metadata": {
  "kernelspec": {
   "display_name": "tata",
   "language": "python",
   "name": "python3"
  },
  "language_info": {
   "codemirror_mode": {
    "name": "ipython",
    "version": 3
   },
   "file_extension": ".py",
   "mimetype": "text/x-python",
   "name": "python",
   "nbconvert_exporter": "python",
   "pygments_lexer": "ipython3",
   "version": "3.13.7"
  }
 },
 "nbformat": 4,
 "nbformat_minor": 5
}
