{
 "cells": [
  {
   "cell_type": "code",
   "execution_count": 1,
   "id": "c74952ef",
   "metadata": {},
   "outputs": [
    {
     "data": {
      "text/plain": [
       "True"
      ]
     },
     "execution_count": 1,
     "metadata": {},
     "output_type": "execute_result"
    }
   ],
   "source": [
    "import json\n",
    "import os\n",
    "from typing import List\n",
    "\n",
    "import fitz\n",
    "from dotenv import load_dotenv\n",
    "from langchain_groq import ChatGroq\n",
    "from pydantic import BaseModel, Field\n",
    "\n",
    "load_dotenv()"
   ]
  },
  {
   "cell_type": "code",
   "execution_count": 2,
   "id": "ab6162a8",
   "metadata": {},
   "outputs": [],
   "source": [
    "src_dir = \"/workspace/input\"\n",
    "out_dir = \"/workspace/output/01\"\n",
    "\n",
    "os.makedirs(out_dir, exist_ok=True)"
   ]
  },
  {
   "cell_type": "code",
   "execution_count": 3,
   "id": "fbdf663f",
   "metadata": {},
   "outputs": [],
   "source": [
    "class SubChapter(BaseModel):\n",
    "    chapter_no: str = Field(description=\"Chapter number of the subchapter\")\n",
    "    title: str = Field(description=\"Title of the subchapter as written in TOC\")\n",
    "\n",
    "\n",
    "class ChapterStructure(BaseModel):\n",
    "    subchapters: List[SubChapter] = Field(\n",
    "        description=\"List of all subchapters with their titles and chapter numbers\"\n",
    "    )"
   ]
  },
  {
   "cell_type": "code",
   "execution_count": 4,
   "id": "79af0cab",
   "metadata": {},
   "outputs": [],
   "source": [
    "def process_toc(toc, save_path):\n",
    "    llm = ChatGroq(\n",
    "        model=\"llama-3.3-70b-versatile\",\n",
    "        temperature=0.1,\n",
    "    )\n",
    "\n",
    "    structured_llm = llm.with_structured_output(ChapterStructure)\n",
    "\n",
    "    response = structured_llm.invoke(f\"\"\"\n",
    "            You are given the following Table of Contents of an Economic Survey document.\n",
    "            Extract each subchapter entry with its chapter number and exact title as written in the TOC.\n",
    "\n",
    "            Rules:\n",
    "            1. Include ALL subchapter titles under each chapter\n",
    "            2. Do not summarize or merge entries; return them exactly as written\n",
    "            3. Include chapter main titles as the first subchapter of each chapter\n",
    "            4. Maintain the exact spelling and formatting of titles\n",
    "            5. Skip page numbers, just focus on chapter numbers and titles\n",
    "\n",
    "            TOC:\n",
    "            {toc}\n",
    "    \"\"\")\n",
    "\n",
    "    chapter_structure = {}\n",
    "\n",
    "    for subchapter in response.subchapters:\n",
    "        chapter_no = subchapter.chapter_no\n",
    "        if chapter_no not in chapter_structure:\n",
    "            chapter_structure[chapter_no] = []\n",
    "        chapter_structure[chapter_no].append(subchapter.title)\n",
    "\n",
    "    chapter_structure = str(chapter_structure).replace(\"'\", '\"')\n",
    "    chapter_structure = str(chapter_structure).replace(\"’\", '\\'')\n",
    "\n",
    "    with open(save_path, \"w\") as f:\n",
    "        json.dump(\n",
    "            json.loads(chapter_structure),\n",
    "            f,\n",
    "            ensure_ascii=False\n",
    "        )\n"
   ]
  },
  {
   "cell_type": "code",
   "execution_count": 5,
   "id": "064275d0",
   "metadata": {},
   "outputs": [],
   "source": [
    "for src in os.listdir(src_dir):\n",
    "    if src.endswith(\".pdf\"):\n",
    "        file_name = os.path.splitext(src)[0].replace(\" \", \"_\")\n",
    "        out_path = os.path.join(out_dir, file_name)\n",
    "        os.makedirs(out_path, exist_ok=True)\n",
    "        src = os.path.join(src_dir, src)\n",
    "        doc = fitz.open(src)\n",
    "\n",
    "        toc = \"\"\n",
    "        for k in range(doc.page_count):\n",
    "            text = doc[k].get_text()\n",
    "            if text.startswith(\"CONTENTS\"):\n",
    "                break\n",
    "\n",
    "        for m in range(k, 6):\n",
    "            toc += doc[m].get_text()\n",
    "\n",
    "        process_toc(toc, os.path.join(out_path, \"chapter_structure.json\"))\n",
    "\n",
    "        chapters_pdf = []\n",
    "        for i in range(doc.page_count):\n",
    "            text = doc[i].get_text()\n",
    "            if text.startswith(\"CHAPTER\"):\n",
    "                chapters_pdf.append(i)\n",
    "            elif text.startswith(\"CHAPTER\", 3):\n",
    "                chapters_pdf.append(i)\n",
    "\n",
    "        for i, start in enumerate(chapters_pdf):\n",
    "            if i < len(chapters_pdf) - 1:\n",
    "                end = chapters_pdf[i + 1] - 1\n",
    "            else:\n",
    "                end = len(doc) - 1\n",
    "\n",
    "            temp_doc = fitz.open()\n",
    "            temp_doc.insert_pdf(doc, from_page=start, to_page=end)\n",
    "            temp_doc.save(os.path.join(out_path, f\"{i + 1}.pdf\"))\n",
    "            temp_doc.close()\n",
    "\n",
    "        doc.close()"
   ]
  }
 ],
 "metadata": {
  "kernelspec": {
   "display_name": "tata",
   "language": "python",
   "name": "python3"
  },
  "language_info": {
   "codemirror_mode": {
    "name": "ipython",
    "version": 3
   },
   "file_extension": ".py",
   "mimetype": "text/x-python",
   "name": "python",
   "nbconvert_exporter": "python",
   "pygments_lexer": "ipython3",
   "version": "3.13.7"
  }
 },
 "nbformat": 4,
 "nbformat_minor": 5
}
